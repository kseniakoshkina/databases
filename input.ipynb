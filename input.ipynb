{
 "cells": [
  {
   "cell_type": "markdown",
   "metadata": {},
   "source": [
    "#### Наполним нашу базу данных"
   ]
  },
  {
   "cell_type": "code",
   "execution_count": 213,
   "metadata": {},
   "outputs": [],
   "source": [
    "from neo4j import GraphDatabase, basic_auth\n",
    "\n",
    "driver = GraphDatabase.driver(\"bolt://174.129.45.71:7687\", auth=basic_auth(\"neo4j\", \"pencils-ringing-screw\"))\n",
    "session = driver.session()"
   ]
  },
  {
   "cell_type": "code",
   "execution_count": 215,
   "metadata": {},
   "outputs": [
    {
     "data": {
      "text/plain": [
       "\"cypher_query = '''\\nMATCH (n)\\nDETACH DELETE n\\n'''\\nresults = session.run(cypher_query,\\n  parameters={})\""
      ]
     },
     "execution_count": 215,
     "metadata": {},
     "output_type": "execute_result"
    }
   ],
   "source": [
    "\"\"\"cypher_query = '''\n",
    "MATCH (n)\n",
    "DETACH DELETE n\n",
    "'''\n",
    "results = session.run(cypher_query,\n",
    "  parameters={})\"\"\""
   ]
  },
  {
   "cell_type": "code",
   "execution_count": 216,
   "metadata": {},
   "outputs": [],
   "source": [
    "cypher_query = '''\n",
    "MATCH (a)\n",
    "RETURN a\n",
    "'''\n",
    "\n",
    "results = session.run(cypher_query,\n",
    "  parameters={})"
   ]
  },
  {
   "cell_type": "code",
   "execution_count": 217,
   "metadata": {},
   "outputs": [],
   "source": [
    "for record in results:\n",
    "    print(record)"
   ]
  },
  {
   "cell_type": "code",
   "execution_count": 218,
   "metadata": {},
   "outputs": [],
   "source": [
    "with open('data.json', 'r', encoding='utf-8') as f:\n",
    "    data = f.read()"
   ]
  },
  {
   "cell_type": "code",
   "execution_count": 219,
   "metadata": {},
   "outputs": [],
   "source": [
    "data = data.replace('\"','')"
   ]
  },
  {
   "cell_type": "code",
   "execution_count": 220,
   "metadata": {},
   "outputs": [],
   "source": [
    "data = data.split('\\\\n')"
   ]
  },
  {
   "cell_type": "code",
   "execution_count": 221,
   "metadata": {},
   "outputs": [],
   "source": [
    "data = data[:-1]"
   ]
  },
  {
   "cell_type": "code",
   "execution_count": 222,
   "metadata": {},
   "outputs": [],
   "source": [
    "data_clean = []\n",
    "for el in data:\n",
    "    el = el.replace('[','').replace(']','')\n",
    "    el = el.split('\\\\t')\n",
    "    clean_el = []\n",
    "    for k in el:\n",
    "        clean_el.append(k.strip())\n",
    "        data_clean.append(clean_el)"
   ]
  },
  {
   "cell_type": "code",
   "execution_count": 223,
   "metadata": {},
   "outputs": [],
   "source": [
    "x = []\n",
    "for k in data_clean:\n",
    "    if k not in x:\n",
    "        x.append(k)"
   ]
  },
  {
   "cell_type": "code",
   "execution_count": 224,
   "metadata": {},
   "outputs": [],
   "source": [
    "names = []\n",
    "for el in x:\n",
    "    names.append(el[0])\n",
    "    \n",
    "names = list(set(names))"
   ]
  },
  {
   "cell_type": "code",
   "execution_count": 225,
   "metadata": {},
   "outputs": [],
   "source": [
    "artists = {}\n",
    "for el in x:\n",
    "    artists[el[0]] = [el[2],el[3]]"
   ]
  },
  {
   "cell_type": "code",
   "execution_count": 226,
   "metadata": {},
   "outputs": [
    {
     "data": {
      "text/plain": [
       "{'Damon Albarn': ['England', '54'],\n",
       " 'Jamie Hewlett': ['England', '54'],\n",
       " 'Remi Kabaka Jr.': ['None', '52'],\n",
       " 'Graham Coxon': ['West Germany (now Germany)', '53'],\n",
       " 'Alex James (musician)': ['England', '53'],\n",
       " 'Dave Rowntree': ['England', '58'],\n",
       " 'Paul Simonon': ['England', '66'],\n",
       " 'Simon Tong': ['England', '50'],\n",
       " 'Tony Allen (musician)': ['Colonial Nigeria|British Nigeria', '82'],\n",
       " 'Dan the Automator': ['U.S.', '56'],\n",
       " 'Richard Russell (XL Recordings)': ['England', '51'],\n",
       " 'Rodaidh McDonald': ['Scotland', 'None'],\n",
       " 'Jneiro Jarel': ['None', 'None'],\n",
       " 'Actress (musician)': ['England', '43'],\n",
       " 'Marc Antoine (musician)': ['France', '59'],\n",
       " 'Remi Kabaka': ['Nigeria', '77'],\n",
       " 'Totally Enormous Extinct Dinosaurs': ['England', '36'],\n",
       " 'Kwes.': ['None', 'None'],\n",
       " 'Robert Del Naja': ['None', '57'],\n",
       " 'Tricky (musician)': ['England', '54'],\n",
       " 'Daddy G': ['None', '62'],\n",
       " 'Theo Keating': ['None', 'None'],\n",
       " 'Simon William Lord': ['England', 'None']}"
      ]
     },
     "execution_count": 226,
     "metadata": {},
     "output_type": "execute_result"
    }
   ],
   "source": [
    "artists"
   ]
  },
  {
   "cell_type": "code",
   "execution_count": 227,
   "metadata": {},
   "outputs": [],
   "source": [
    "for el in names:\n",
    "    create_man = \"\"\"CREATE (p:Person {name:'%s', age:'%s'})\"\"\" % (el,artists[el][1])\n",
    "    _ = session.run(create_man)"
   ]
  },
  {
   "cell_type": "code",
   "execution_count": 228,
   "metadata": {},
   "outputs": [],
   "source": [
    "bands = []\n",
    "for el in x:\n",
    "    bands.append(el[1])\n",
    "    \n",
    "bands = list(set(bands))"
   ]
  },
  {
   "cell_type": "code",
   "execution_count": 229,
   "metadata": {},
   "outputs": [],
   "source": [
    "countries = []\n",
    "for el in list(artists.values()):\n",
    "    countries.append(el[0])\n",
    "\n",
    "countries = list(set(countries))"
   ]
  },
  {
   "cell_type": "code",
   "execution_count": 230,
   "metadata": {},
   "outputs": [],
   "source": [
    "for el in countries:\n",
    "    create_country = \"\"\"CREATE (c:Country {name:'%s'})\"\"\" % (el)\n",
    "    _ = session.run(create_country)"
   ]
  },
  {
   "cell_type": "code",
   "execution_count": 231,
   "metadata": {},
   "outputs": [],
   "source": [
    "for el in bands:\n",
    "    create_band = 'CREATE (g:Group {name: \"'+el+'\"}) '\n",
    "    _ = session.run(create_band)"
   ]
  },
  {
   "cell_type": "code",
   "execution_count": 232,
   "metadata": {},
   "outputs": [
    {
     "data": {
      "text/plain": [
       "[['Damon Albarn', 'Gorillaz', 'England', '54'],\n",
       " ['Jamie Hewlett', 'Gorillaz', 'England', '54'],\n",
       " ['Remi Kabaka Jr.', 'Gorillaz', 'None', '52'],\n",
       " ['Damon Albarn', 'Blur (band)', 'England', '54'],\n",
       " ['Damon Albarn', 'Monkey Journey to the West', 'England', '54'],\n",
       " ['Damon Albarn', 'The Good, the Bad & the Queen', 'England', '54'],\n",
       " ['Damon Albarn', 'Mali Music', 'England', '54'],\n",
       " ['Damon Albarn', 'Rocket Juice & the Moon', 'England', '54'],\n",
       " ['Damon Albarn', 'DRC Music', 'England', '54'],\n",
       " ['Damon Albarn', 'Massive Attack', 'England', '54'],\n",
       " ['Damon Albarn', 'The Black Ghosts', 'England', '54'],\n",
       " ['Damon Albarn', 'Africa Express (organization)', 'England', '54'],\n",
       " ['Graham Coxon', 'Blur (band)', 'West Germany (now Germany)', '53'],\n",
       " ['Alex James (musician)', 'Blur (band)', 'England', '53'],\n",
       " ['Dave Rowntree', 'Blur (band)', 'England', '58'],\n",
       " ['Paul Simonon', 'The Good, the Bad & the Queen', 'England', '66'],\n",
       " ['Simon Tong', 'The Good, the Bad & the Queen', 'England', '50'],\n",
       " ['Tony Allen (musician)',\n",
       "  'The Good, the Bad & the Queen',\n",
       "  'Colonial Nigeria|British Nigeria',\n",
       "  '82'],\n",
       " ['Dan the Automator', 'DRC Music', 'U.S.', '56'],\n",
       " ['Richard Russell (XL Recordings)', 'DRC Music', 'England', '51'],\n",
       " ['Rodaidh McDonald', 'DRC Music', 'Scotland', 'None'],\n",
       " ['Jneiro Jarel', 'DRC Music', 'None', 'None'],\n",
       " ['Actress (musician)', 'DRC Music', 'England', '43'],\n",
       " ['Marc Antoine (musician)', 'DRC Music', 'France', '59'],\n",
       " ['Remi Kabaka', 'DRC Music', 'Nigeria', '77'],\n",
       " ['Totally Enormous Extinct Dinosaurs', 'DRC Music', 'England', '36'],\n",
       " ['Kwes.', 'DRC Music', 'None', 'None'],\n",
       " ['Robert Del Naja', 'Massive Attack', 'None', '57'],\n",
       " ['Tricky (musician)', 'Massive Attack', 'England', '54'],\n",
       " ['Daddy G', 'Massive Attack', 'None', '62'],\n",
       " ['Theo Keating', 'The Black Ghosts', 'None', 'None'],\n",
       " ['Simon William Lord', 'The Black Ghosts', 'England', 'None']]"
      ]
     },
     "execution_count": 232,
     "metadata": {},
     "output_type": "execute_result"
    }
   ],
   "source": [
    "x"
   ]
  },
  {
   "cell_type": "code",
   "execution_count": 233,
   "metadata": {},
   "outputs": [],
   "source": [
    "for k in x:\n",
    "    create_match = 'MATCH (p:Person {name: \"'+k[0]+'\"}), (g:Group {name: \"'+k[1]+'\"}) MERGE (p)-[r:ASSOCIATED_WITH]->(g) RETURN r'\n",
    "    _ = session.run(create_match)"
   ]
  },
  {
   "cell_type": "code",
   "execution_count": 234,
   "metadata": {},
   "outputs": [],
   "source": [
    "for k in x:\n",
    "    create_match = 'MATCH (p:Person {name: \"'+k[0]+'\"}), (c:Country {name: \"'+k[2]+'\"}) MERGE (p)-[r:WHERE_FROM]->(c) RETURN r'\n",
    "    _ = session.run(create_match)"
   ]
  },
  {
   "cell_type": "code",
   "execution_count": null,
   "metadata": {},
   "outputs": [],
   "source": []
  },
  {
   "cell_type": "code",
   "execution_count": null,
   "metadata": {},
   "outputs": [],
   "source": []
  },
  {
   "cell_type": "code",
   "execution_count": null,
   "metadata": {},
   "outputs": [],
   "source": []
  }
 ],
 "metadata": {
  "kernelspec": {
   "display_name": "Python 3",
   "language": "python",
   "name": "python3"
  },
  "language_info": {
   "codemirror_mode": {
    "name": "ipython",
    "version": 3
   },
   "file_extension": ".py",
   "mimetype": "text/x-python",
   "name": "python",
   "nbconvert_exporter": "python",
   "pygments_lexer": "ipython3",
   "version": "3.7.4"
  }
 },
 "nbformat": 4,
 "nbformat_minor": 2
}
