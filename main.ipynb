{
 "cells": [
  {
   "cell_type": "markdown",
   "metadata": {},
   "source": [
    "Требования к нереляционным БД \\\n",
    "2 - нереляционная БД \\\n",
    "2 - красивая структура БД \\\n",
    "2 - интерфейс позволяет класть, доставать, удалять данные (проводить операции CRUD - Create, Read, Update, Delete) \\\n",
    "2 - два действия помимо CRUD (сортировка, группировка, агрегация, ...) \\\n",
    "2 - Neo4j - нахождение путей не только к соседним вершинам, операции с графами \n"
   ]
  },
  {
   "cell_type": "code",
   "execution_count": 327,
   "metadata": {},
   "outputs": [],
   "source": [
    "import wptools\n",
    "import re\n",
    "import datetime\n",
    "from neo4j import GraphDatabase, basic_auth\n",
    "\n",
    "driver = GraphDatabase.driver(\"bolt://174.129.45.71:7687\", auth=basic_auth(\"neo4j\", \"pencils-ringing-screw\"))\n",
    "session = driver.session()"
   ]
  },
  {
   "cell_type": "markdown",
   "metadata": {},
   "source": [
    "Добавим в базу Пола Маккартни."
   ]
  },
  {
   "cell_type": "code",
   "execution_count": 328,
   "metadata": {},
   "outputs": [],
   "source": [
    "name = 'Paul McCartney'"
   ]
  },
  {
   "cell_type": "code",
   "execution_count": 329,
   "metadata": {},
   "outputs": [],
   "source": [
    "def get_bands(artist):\n",
    "    so = wptools.page(artist).get_parse()\n",
    "    infobox = so.data['infobox']\n",
    "    try:\n",
    "        infobox = infobox['module']\n",
    "        infobox = infobox.replace(\"'\",\"\").replace(':','').replace('[','').replace(']','').replace('*','').replace('nowrap','')\n",
    "        infobox = infobox.replace(\"flatlist\",\"\").replace('{','').replace('}','').replace('|','').replace('=','')\n",
    "        \n",
    "        infobox = infobox.split('\\n')\n",
    "        for el in infobox:\n",
    "            if 'associated_acts' in el:\n",
    "                need = el\n",
    "        index1 = infobox.index(need)\n",
    "        infobox1 = infobox[index1+1:]\n",
    "        \n",
    "        infobox = []\n",
    "        for k in infobox1:\n",
    "            if k != ' ':\n",
    "                k = k.split(')')\n",
    "                if '(' in k[0]:\n",
    "                    infobox.append(k[0].strip()+')')\n",
    "                else:\n",
    "                    infobox.append(k[0].strip())\n",
    "            else:\n",
    "                break\n",
    "        \n",
    "    except:\n",
    "        try:\n",
    "            infobox = infobox['associated_acts']\n",
    "        except:\n",
    "            try: \n",
    "                infobox = infobox['Associated_acts']\n",
    "            except:\n",
    "                infobox = 'nothing found'\n",
    "    return infobox"
   ]
  },
  {
   "cell_type": "code",
   "execution_count": 330,
   "metadata": {},
   "outputs": [
    {
     "name": "stderr",
     "output_type": "stream",
     "text": [
      "en.wikipedia.org (parse) Paul McCartney\n",
      "en.wikipedia.org (imageinfo) File:Paul McCartney 2021 (cropped).jpg\n",
      "Paul McCartney (en) data\n",
      "{\n",
      "  image: <list(1)> {'kind': 'parse-image', 'file': 'File:Paul McCa...\n",
      "  infobox: <dict(22)> honorific_prefix, name, honorific_suffix, im...\n",
      "  iwlinks: <list(3)> https://commons.wikimedia.org/wiki/Paul_McCar...\n",
      "  pageid: 13736167\n",
      "  parsetree: <str(359670)> <root><template><title>Short descriptio...\n",
      "  requests: <list(2)> parse, imageinfo\n",
      "  title: Paul McCartney\n",
      "  wikibase: Q2599\n",
      "  wikidata_url: https://www.wikidata.org/wiki/Q2599\n",
      "  wikitext: <str(247278)> {{Short description|English musician, me...\n",
      "}\n"
     ]
    }
   ],
   "source": [
    "bands = get_bands(name)"
   ]
  },
  {
   "cell_type": "code",
   "execution_count": 331,
   "metadata": {},
   "outputs": [
    {
     "data": {
      "text/plain": [
       "['The Quarrymen',\n",
       " 'The Beatles',\n",
       " 'Wings (band)',\n",
       " 'The Fireman (band)',\n",
       " 'Linda McCartney']"
      ]
     },
     "execution_count": 331,
     "metadata": {},
     "output_type": "execute_result"
    }
   ],
   "source": [
    "bands"
   ]
  },
  {
   "cell_type": "code",
   "execution_count": 332,
   "metadata": {},
   "outputs": [],
   "source": [
    "def get_data_place(artist):\n",
    "    so = wptools.page(artist).get_parse()\n",
    "    infobox = so.data['infobox']\n",
    "    try:\n",
    "        birth_date = infobox['birth_date']\n",
    "        nums = re.findall(r'\\d+', birth_date)\n",
    "        date = datetime.datetime(int(nums[0]), int(nums[1]), int(nums[2]))\n",
    "        now = datetime.datetime.now()\n",
    "        age = round((now-date).days/365.25)\n",
    "    except: \n",
    "        age = 'None'\n",
    "    try:\n",
    "        birth_place = infobox['birth_place'].split(',')[-1].strip()\n",
    "    except:\n",
    "        birth_place = 'None'\n",
    "    return birth_place, age"
   ]
  },
  {
   "cell_type": "code",
   "execution_count": 333,
   "metadata": {},
   "outputs": [
    {
     "name": "stderr",
     "output_type": "stream",
     "text": [
      "en.wikipedia.org (parse) Paul McCartney\n",
      "en.wikipedia.org (imageinfo) File:Paul McCartney 2021 (cropped).jpg\n",
      "Paul McCartney (en) data\n",
      "{\n",
      "  image: <list(1)> {'kind': 'parse-image', 'file': 'File:Paul McCa...\n",
      "  infobox: <dict(22)> honorific_prefix, name, honorific_suffix, im...\n",
      "  iwlinks: <list(3)> https://commons.wikimedia.org/wiki/Paul_McCar...\n",
      "  pageid: 13736167\n",
      "  parsetree: <str(359670)> <root><template><title>Short descriptio...\n",
      "  requests: <list(2)> parse, imageinfo\n",
      "  title: Paul McCartney\n",
      "  wikibase: Q2599\n",
      "  wikidata_url: https://www.wikidata.org/wiki/Q2599\n",
      "  wikitext: <str(247278)> {{Short description|English musician, me...\n",
      "}\n"
     ]
    }
   ],
   "source": [
    "birth_place, age = get_data_place(name)"
   ]
  },
  {
   "cell_type": "code",
   "execution_count": 334,
   "metadata": {},
   "outputs": [
    {
     "data": {
      "text/plain": [
       "('England', 80)"
      ]
     },
     "execution_count": 334,
     "metadata": {},
     "output_type": "execute_result"
    }
   ],
   "source": [
    "birth_place, age"
   ]
  },
  {
   "cell_type": "markdown",
   "metadata": {},
   "source": [
    "### Create, read"
   ]
  },
  {
   "cell_type": "code",
   "execution_count": 335,
   "metadata": {},
   "outputs": [],
   "source": [
    "def add_artist(name, bands, birth_place, age):\n",
    "    add_person = 'CREATE (p:Person {name: \"'+name+'\", age: \"'+str(age)+'\"})'\n",
    "    _ = session.run(add_person)\n",
    "    \n",
    "    for band in bands:\n",
    "        add_band = 'MERGE (g:Group {name: \"'+band+'\"})' \n",
    "        _ = session.run(add_band)\n",
    "        \n",
    "        edge_band = 'MATCH (p:Person {name: \"'+name+'\"}), (g:Group {name: \"'+band+'\"}) MERGE (p)-[r:ASSOCIATED_WITH]->(g)'\n",
    "        _ = session.run(edge_band)\n",
    "\n",
    "    add_country = 'MERGE (c:Country {name: \"'+birth_place+'\"})' \n",
    "    _ = session.run(add_country)\n",
    "    \n",
    "    edge_country = 'MATCH (p:Person {name: \"'+name+'\"}), (c:Country {name: \"'+birth_place+'\"}) MERGE (p)-[r:WHERE_FROM]->(c)'\n",
    "    _ = session.run(edge_country)\n",
    "    \n",
    "    get_data = 'MATCH (p:Person {name: \"'+name+'\"})-[r:WHERE_FROM]-(c) RETURN p.name, p.age, c.name' \n",
    "    _ = session.run(get_data)\n",
    "    metadata = [record.data() for record in _][0]\n",
    "    \n",
    "    get_data = 'MATCH (p:Person {name: \"'+name+'\"})-[r:ASSOCIATED_WITH]-(g) RETURN g.name' \n",
    "    r = session.run(get_data)\n",
    "    result = [record.data() for record in r]\n",
    "    bands = []\n",
    "    for band in result:\n",
    "        bands.append(band['g.name'])\n",
    "\n",
    "    return('Input was: '+ metadata['p.name'] + ', '+ metadata['p.age']  \\\n",
    "           + ', '+ metadata['c.name'] +  ', ' + ', '.join(bands))"
   ]
  },
  {
   "cell_type": "code",
   "execution_count": 336,
   "metadata": {},
   "outputs": [
    {
     "data": {
      "text/plain": [
       "'Input was: Paul McCartney, 80, England, Linda McCartney, The Fireman (band), Wings (band), The Beatles, The Quarrymen'"
      ]
     },
     "execution_count": 336,
     "metadata": {},
     "output_type": "execute_result"
    }
   ],
   "source": [
    "add_artist(name, bands, birth_place, age)"
   ]
  },
  {
   "cell_type": "markdown",
   "metadata": {},
   "source": [
    "### Update, Delete"
   ]
  },
  {
   "cell_type": "code",
   "execution_count": 337,
   "metadata": {},
   "outputs": [],
   "source": [
    "def update_age(name, age):\n",
    "    update_ = \"\"\"MATCH (p:Person {name: '%s'})\n",
    "                    SET p.age = '%s'\n",
    "                    RETURN p.age\"\"\" % (name, age)\n",
    "    result = session.run(update_)\n",
    "    return result"
   ]
  },
  {
   "cell_type": "code",
   "execution_count": 338,
   "metadata": {},
   "outputs": [
    {
     "name": "stdout",
     "output_type": "stream",
     "text": [
      "356\n"
     ]
    }
   ],
   "source": [
    "result = update_age('Damon Albarn', 356)\n",
    "for el in result:\n",
    "    print(el.data()['p.age'])"
   ]
  },
  {
   "cell_type": "code",
   "execution_count": 339,
   "metadata": {},
   "outputs": [],
   "source": [
    "def delete_country(name, country):\n",
    "    delete_ = \"\"\"MATCH (p:Person {name: '%s'})-[r:WHERE_FROM]->(:Country {name: '%s'})\n",
    "                    DELETE r\"\"\" % (name, country)\n",
    "    \n",
    "    match = \"\"\"MATCH (p:Person {name: '%s'})-[r:WHERE_FROM]->(c) \n",
    "        RETURN c.name\"\"\" % name\n",
    "    result = session.run(delete_)\n",
    "    country = session.run(match)\n",
    "    return result"
   ]
  },
  {
   "cell_type": "code",
   "execution_count": 340,
   "metadata": {},
   "outputs": [],
   "source": [
    "res = delete_country('Simon Tong', 'England')"
   ]
  },
  {
   "cell_type": "code",
   "execution_count": 341,
   "metadata": {},
   "outputs": [],
   "source": [
    "for el in res:\n",
    "    print(el.data()['c.name'])"
   ]
  },
  {
   "cell_type": "markdown",
   "metadata": {},
   "source": [
    "### sort, aggregation, group"
   ]
  },
  {
   "cell_type": "code",
   "execution_count": 342,
   "metadata": {},
   "outputs": [],
   "source": [
    "# список стран в алфавитном порядке\n",
    "sort = \"\"\"MATCH (c:Country)\n",
    "        RETURN c.name\n",
    "        ORDER BY c.name\n",
    "        LIMIT 5\"\"\"\n",
    "result = session.run(sort)"
   ]
  },
  {
   "cell_type": "code",
   "execution_count": 343,
   "metadata": {},
   "outputs": [
    {
     "name": "stdout",
     "output_type": "stream",
     "text": [
      "Colonial Nigeria|British Nigeria\n",
      "England\n",
      "France\n",
      "Nigeria\n",
      "None\n"
     ]
    }
   ],
   "source": [
    "for res in result:\n",
    "    print(res['c.name'])"
   ]
  },
  {
   "cell_type": "code",
   "execution_count": 344,
   "metadata": {},
   "outputs": [],
   "source": [
    "# список исполнителей из Англии\n",
    "sort = \"\"\"MATCH (c:Country {name: 'England'})<-[:WHERE_FROM]-(p)\n",
    "        RETURN p\"\"\"\n",
    "result = session.run(sort)"
   ]
  },
  {
   "cell_type": "code",
   "execution_count": 345,
   "metadata": {},
   "outputs": [
    {
     "name": "stdout",
     "output_type": "stream",
     "text": [
      "Paul McCartney\n",
      "Simon William Lord\n",
      "Tricky (musician)\n",
      "Totally Enormous Extinct Dinosaurs\n",
      "Actress (musician)\n",
      "Richard Russell (XL Recordings)\n",
      "Paul Simonon\n",
      "Dave Rowntree\n",
      "Alex James (musician)\n",
      "Jamie Hewlett\n",
      "Damon Albarn\n"
     ]
    }
   ],
   "source": [
    "for res in result:\n",
    "    print(res[0]['name'])"
   ]
  },
  {
   "cell_type": "code",
   "execution_count": 346,
   "metadata": {},
   "outputs": [],
   "source": [
    "# исполнитель с самым большим количеством связей\n",
    "sort = \"\"\"MATCH (p: Person)-[:ASSOCIATED_WITH]-(g)\n",
    "        WITH p, count(g) AS amount\n",
    "        ORDER BY amount DESC\n",
    "        RETURN p.name\n",
    "        LIMIT 1\"\"\"\n",
    "result = session.run(sort)\n"
   ]
  },
  {
   "cell_type": "code",
   "execution_count": 347,
   "metadata": {},
   "outputs": [
    {
     "name": "stdout",
     "output_type": "stream",
     "text": [
      "Damon Albarn\n"
     ]
    }
   ],
   "source": [
    "for res in result:\n",
    "    print(res['p.name'])"
   ]
  },
  {
   "cell_type": "code",
   "execution_count": 348,
   "metadata": {},
   "outputs": [],
   "source": [
    "# топ стран с максимальным количеством исполнителей\n",
    "sort = \"\"\"MATCH (c: Country)-[r:WHERE_FROM]-(Person)\n",
    "        WITH c, count(Person) AS persons\n",
    "        ORDER BY persons DESC\n",
    "        LIMIT 5\n",
    "        RETURN c.name, persons\"\"\"\n",
    "result = session.run(sort)"
   ]
  },
  {
   "cell_type": "code",
   "execution_count": 349,
   "metadata": {},
   "outputs": [
    {
     "name": "stdout",
     "output_type": "stream",
     "text": [
      "England\n",
      "None\n",
      "Colonial Nigeria|British Nigeria\n",
      "West Germany (now Germany)\n",
      "U.S.\n"
     ]
    }
   ],
   "source": [
    "for res in result:\n",
    "    print(res['c.name'])"
   ]
  },
  {
   "cell_type": "code",
   "execution_count": 350,
   "metadata": {},
   "outputs": [],
   "source": [
    "# значения страны с максимальным количеством исполнителей\n",
    "sort = \"\"\"MATCH (c: Country)-[r:WHERE_FROM]-(Person)\n",
    "WITH c, count(Person) AS persons\n",
    "ORDER BY persons DESC\n",
    "LIMIT 1\n",
    "WITH c.name as target \n",
    "MATCH (c: Country {name: target})-[r:WHERE_FROM]-(Person)\n",
    "RETURN c, Person\"\"\"\n",
    "result = session.run(sort)"
   ]
  },
  {
   "cell_type": "code",
   "execution_count": 351,
   "metadata": {},
   "outputs": [
    {
     "name": "stdout",
     "output_type": "stream",
     "text": [
      "Paul McCartney\n",
      "Simon William Lord\n",
      "Tricky (musician)\n",
      "Totally Enormous Extinct Dinosaurs\n",
      "Actress (musician)\n",
      "Richard Russell (XL Recordings)\n",
      "Paul Simonon\n",
      "Dave Rowntree\n",
      "Alex James (musician)\n",
      "Jamie Hewlett\n",
      "Damon Albarn\n"
     ]
    }
   ],
   "source": [
    "for res in result:\n",
    "    print(res[1]['name'])"
   ]
  },
  {
   "cell_type": "code",
   "execution_count": 352,
   "metadata": {},
   "outputs": [],
   "source": [
    "search = \"\"\"MATCH\n",
    "  (p1:Person {name: 'Damon Albarn'}),\n",
    "  (p2:Person {name: 'Paul McCartney'}),\n",
    "  p = shortestPath((p1)-[*..4]-(p2))\n",
    "    RETURN p\"\"\"\n",
    "result = session.run(search)"
   ]
  },
  {
   "cell_type": "code",
   "execution_count": 353,
   "metadata": {},
   "outputs": [
    {
     "name": "stdout",
     "output_type": "stream",
     "text": [
      "<Record p=<Path start=<Node id=105 labels=frozenset({'Person'}) properties={'name': 'Damon Albarn', 'age': '356'}> end=<Node id=30 labels=frozenset({'Person'}) properties={'name': 'Paul McCartney', 'age': '80'}> size=2>>\n"
     ]
    }
   ],
   "source": [
    "for res in result:\n",
    "    print(res)"
   ]
  },
  {
   "cell_type": "code",
   "execution_count": null,
   "metadata": {},
   "outputs": [],
   "source": []
  }
 ],
 "metadata": {
  "kernelspec": {
   "display_name": "Python 3",
   "language": "python",
   "name": "python3"
  },
  "language_info": {
   "codemirror_mode": {
    "name": "ipython",
    "version": 3
   },
   "file_extension": ".py",
   "mimetype": "text/x-python",
   "name": "python",
   "nbconvert_exporter": "python",
   "pygments_lexer": "ipython3",
   "version": "3.7.4"
  }
 },
 "nbformat": 4,
 "nbformat_minor": 2
}
